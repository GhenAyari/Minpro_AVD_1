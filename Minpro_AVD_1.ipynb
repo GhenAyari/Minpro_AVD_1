{
  "nbformat": 4,
  "nbformat_minor": 0,
  "metadata": {
    "colab": {
      "provenance": [],
      "authorship_tag": "ABX9TyNd9jisCfB00zN1Y0+bVUuu",
      "include_colab_link": true
    },
    "kernelspec": {
      "name": "python3",
      "display_name": "Python 3"
    },
    "language_info": {
      "name": "python"
    }
  },
  "cells": [
    {
      "cell_type": "markdown",
      "metadata": {
        "id": "view-in-github",
        "colab_type": "text"
      },
      "source": [
        "<a href=\"https://colab.research.google.com/github/GhenAyari/Minpro_AVD_1/blob/main/Minpro_AVD_1.ipynb\" target=\"_parent\"><img src=\"https://colab.research.google.com/assets/colab-badge.svg\" alt=\"Open In Colab\"/></a>"
      ]
    },
    {
      "cell_type": "markdown",
      "source": [
        "Mini Project 1 Analitik Dan Visualisasi Data <br>\n",
        "Nama: Ghendida Gantari Ayari <br>\n",
        "NIM: 2409116080 (B) <br>\n",
        "Tema: Child Weight Categories\n"
      ],
      "metadata": {
        "id": "6Gp0bJrTVfGq"
      }
    },
    {
      "cell_type": "markdown",
      "source": [
        "<details>\n",
        "<summary><b>Studi Kasus</b></summary>\n",
        "Dalam dua dekade terakhir, prevalensi obesitas pada anak-anak mengalami peningkatan yang signifikan di banyak negara. Body Mass Index (BMI) digunakan sebagai indikator utama dalam menentukan kategori berat badan anak-anak, yaitu underweight, normal, overweight, dan obese. Perubahan gaya hidup, pola makan, serta aktivitas fisik berperan penting dalam mempengaruhi tren BMI.\n",
        "\n",
        "bertujuan untuk menganalisis data BMI anak-anak berdasarkan gender dari tahun 2001 hingga 2023 guna mengidentifikasi pola yang berkembang. Melalui analisis ini, diharapkan dapat ditemukan wawasan yang berguna untuk kebijakan kesehatan anak-anak, intervensi dini terhadap obesitas, serta upaya peningkatan pola hidup sehat.\n",
        "</details>"
      ],
      "metadata": {
        "id": "ujhTgyIT3vMe"
      }
    },
    {
      "cell_type": "markdown",
      "source": [
        "#<b>BUSSINES UNDERSTANDING<b>"
      ],
      "metadata": {
        "id": "9stMzN_levJJ"
      }
    },
    {
      "cell_type": "markdown",
      "source": [
        "<details>\n",
        "<summary><b>Bussines Objective</b></summary>\n",
        "Tujuan utama proyek ini adalah untuk memahami tren BMI anak-anak berdasarkan gender dari tahun 2001 hingga 2023 guna mengidentifikasi pola kesehatan dan risiko terkait obesitas atau kekurangan gizi. Analisis ini bertujuan untuk:\n",
        "Mengamati perubahan distribusi kategori berat badan (underweight, normal, overweight, obesitas) dalam rentang waktu tersebut.\n",
        "</details>\n"
      ],
      "metadata": {
        "id": "PWSchH-HfUrt"
      }
    },
    {
      "cell_type": "markdown",
      "source": [
        "<details>\n",
        "<summary><b>Asses Situation</b></summary>\n",
        "Situasi yang mendasari analisis ini adalah peningkatan prevalensi obesitas dan permasalahan gizi pada anak-anak. Dengan gaya hidup yang semakin tidak aktif serta pola makan yang berubah, penting untuk memahami bagaimana BMI anak-anak berkembang selama lebih dari dua dekade terakhir.\n",
        "</details>"
      ],
      "metadata": {
        "id": "e-M1T1aOgBG4"
      }
    },
    {
      "cell_type": "markdown",
      "source": [
        "<details>\n",
        "<summary><b>Data Mining Goals</b></summary>\n",
        "Mengidentifikasi pola dan tren perubahan BMI anak-anak berdasarkan gender dari tahun 2001 hingga 2023 dengan menganalisis distribusi kategori berat badan (underweight, normal, overweight, obesetas). Studi ini bertujuan untuk mengungkap hubungan antara gender, tahun pengamatan, dan distribusi BMI, serta mengeksplorasi bagaimana faktor-faktor ini mempengaruhi tren kesehatan anak-anak.\n",
        "</details>"
      ],
      "metadata": {
        "id": "a7eDih1WgP8V"
      }
    },
    {
      "cell_type": "markdown",
      "source": [
        "<details>\n",
        "<summary><b>Project Plan</b></summary>\n",
        "Tahapan untuk proyek ini adalah:<br>\n",
        "1. memeriksa data sehingga dapat\n",
        "mengidentifikasi masalah pada data\n",
        "yang didapatkan, dengan membuat\n",
        "ringkasan dan\n",
        "mengidentifikasi potensi masalah dalam data.<br>\n",
        "2. Data preparation<br>\n",
        "3. Visualisasi, mengubah data menjadi diagram atau grafik yang bertujuan agar data lebih mudah dipahami<br>\n",
        "</details>"
      ],
      "metadata": {
        "id": "g8hTHPk7hfeY"
      }
    }
  ]
}